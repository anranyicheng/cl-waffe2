{
 "cells": [
  {
   "cell_type": "markdown",
   "id": "f9015aa0-7158-4e9e-af04-b8b943d1d9ea",
   "metadata": {},
   "source": [
    "# [Section0] Basic APIs\n",
    "\n",
    "## Introduction\n",
    "\n",
    "<img alt=\"Logo\" src=\"https://hikettei.github.io/cl-waffe-docs/cl-waffe.png\" width=\"45%\">\n",
    "\n",
    "cl-waffe2 is a deep learning framework working on ANSI Common Lisp."
   ]
  },
  {
   "cell_type": "code",
   "execution_count": 1,
   "id": "d2b38b5f-c2a4-49e1-a832-551812fc4361",
   "metadata": {},
   "outputs": [
    {
     "data": {
      "text/plain": [
       "T"
      ]
     },
     "execution_count": 1,
     "metadata": {},
     "output_type": "execute_result"
    },
    {
     "data": {
      "text/plain": [
       "T"
      ]
     },
     "execution_count": 1,
     "metadata": {},
     "output_type": "execute_result"
    },
    {
     "name": "stdout",
     "output_type": "stream",
     "text": [
      "SB-KERNEL:REDEFINITION-WITH-DEFMETHOD: redefining PERFORM (#<STANDARD-CLASS ASDF/LISP-ACTION:TEST-OP> #<SB-MOP:EQL-SPECIALIZER #<SYSTEM \"cl-waffe2/test\">>) in DEFMETHOD\n",
      "SB-KERNEL:REDEFINITION-WITH-DEFUN: redefining LPARALLEL.KERNEL:KERNEL-NAME in DEFUN\n",
      "SB-KERNEL:REDEFINITION-WITH-DEFGENERIC: redefining CL-WAFFE2/VM.GENERIC-TENSOR:CURRENT-BACKEND-STATE in DEFGENERIC\n",
      "SB-KERNEL:REDEFINITION-WITH-DEFGENERIC: redefining CL-WAFFE2/VM.NODES:FORWARD in DEFGENERIC\n",
      "SB-KERNEL:REDEFINITION-WITH-DEFGENERIC: redefining CL-WAFFE2/VM.NODES:BACKWARD in DEFGENERIC\n",
      "SB-KERNEL:REDEFINITION-WITH-DEFUN: redefining CL-WAFFE2/VM.GENERIC-TENSOR:MOVETENSOR-P in DEFUN\n"
     ]
    }
   ],
   "source": [
    "(load \"../../../cl-waffe2.asd\")\n",
    "\n",
    "(asdf:load-system :cl-waffe2 :silent t)"
   ]
  },
  {
   "cell_type": "code",
   "execution_count": 2,
   "id": "4aaf645e-127f-48b7-9ed9-066114405c9c",
   "metadata": {},
   "outputs": [
    {
     "data": {
      "text/plain": [
       "#<PACKAGE \"SECTION-0-BASIC\">"
      ]
     },
     "execution_count": 2,
     "metadata": {},
     "output_type": "execute_result"
    },
    {
     "data": {
      "text/plain": [
       "#<PACKAGE \"SECTION-0-BASIC\">"
      ]
     },
     "execution_count": 2,
     "metadata": {},
     "output_type": "execute_result"
    }
   ],
   "source": [
    "(defpackage :section-0-basic\n",
    "    (:use\n",
    "     :cl\n",
    "     :cl-waffe2\n",
    "     :cl-waffe2/base-impl\n",
    "     :cl-waffe2/vm.generic-tensor\n",
    "     :cl-waffe2/distributions))\n",
    "\n",
    "(in-package :section-0-basic)"
   ]
  },
  {
   "cell_type": "markdown",
   "id": "bda11717-ac24-4456-b7cf-ba7eb87c60f9",
   "metadata": {},
   "source": [
    "## Creating a tensor\n",
    "\n",
    "Tensors are the fundamental data unit in the computation node"
   ]
  },
  {
   "cell_type": "code",
   "execution_count": null,
   "id": "ff5d1edf-3aff-463e-9c77-ab0d342c5516",
   "metadata": {},
   "outputs": [],
   "source": []
  }
 ],
 "metadata": {
  "kernelspec": {
   "display_name": "Common Lisp",
   "language": "common-lisp",
   "name": "common-lisp"
  },
  "language_info": {
   "codemirror_mode": "text/x-common-lisp",
   "file_extension": ".lisp",
   "mimetype": "text/x-common-lisp",
   "name": "common-lisp",
   "pygments_lexer": "common-lisp",
   "version": "2.3.3"
  }
 },
 "nbformat": 4,
 "nbformat_minor": 5
}
