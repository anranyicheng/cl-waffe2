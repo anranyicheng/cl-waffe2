{
 "cells": [
  {
   "cell_type": "markdown",
   "id": "d1b31c83-3c5b-4c63-88de-9edacb25f61c",
   "metadata": {},
   "source": [
    "### はじめに\n",
    "\n",
    "<div align=\"center\">\n",
    "    <img alt=\"Logo\" src=\"https://hikettei.github.io/cl-waffe-docs/cl-waffe.png\" width=\"45%\">\n",
    "</div>\n",
    "\n",
    "cl-waffe2はANSI Common Lisp上に、深層学習モデルの設計や学習に特化した行列演算ライブラリとそれに関連するパッケージを提供するフレームワークです。このNotebookでは複数のセクションに分けてcl-waffe2の基本的な使い方をサンプルコードと共に提供します。\n",
    "\n",
    "cl-waffe2のインストール方法やドキュメントについては、[公式ドキュメント](https://hikettei.github.io/cl-waffe2/)をご活用ください。\n",
    "\n",
    "### common-lisp-jupyter\n",
    "\n",
    "Jupyter Labでこのファイルをご覧になっている場合、付属しているセルを実行するためには、[common-lisp-jupyter](https://github.com/yitzchak/common-lisp-jupyter)という拡張ライブラリを予め導入していただく必要があります。（インストール方法に関しては、ライブラリのReadme.mdファイル及び公式ドキュメントをご覧ください）"
   ]
  },
  {
   "cell_type": "markdown",
   "id": "9725039f-ffb1-48a9-a630-89ea0b23f450",
   "metadata": {},
   "source": [
    "### cl-waffe2を読み込む\n",
    "\n",
    "cl-waffe2は執筆時点(2023/08/27)では開発途中で、まだQuicklispに登録がされていません。そのため動作するには[オリジナルのGithubリポジトリ](https://github.com/hikettei/cl-waffe2.git)からリポジトリをクローンしていただいたのち、`cl-waffe2.asd`ファイルを読み込んでいただく必要があります。\n",
    "\n",
    "\n",
    "```sh\n",
    "$ git clone https://github.com/hikettei/cl-waffe2.git\n",
    "$ cd cl-waffe2\n",
    "$ jupyter lab\n",
    "```"
   ]
  },
  {
   "cell_type": "code",
   "execution_count": 1,
   "id": "715ed4c2-b65d-4a50-be47-3cb3f8d7ee0b",
   "metadata": {},
   "outputs": [
    {
     "data": {
      "text/plain": [
       "T"
      ]
     },
     "execution_count": 1,
     "metadata": {},
     "output_type": "execute_result"
    },
    {
     "data": {
      "text/plain": [
       "T"
      ]
     },
     "execution_count": 1,
     "metadata": {},
     "output_type": "execute_result"
    },
    {
     "name": "stdout",
     "output_type": "stream",
     "text": [
      "SB-KERNEL:REDEFINITION-WITH-DEFMETHOD: redefining PERFORM (#<STANDARD-CLASS ASDF/LISP-ACTION:TEST-OP> #<SB-MOP:EQL-SPECIALIZER #<SYSTEM \"cl-waffe2/test\">>) in DEFMETHOD\n",
      "SB-KERNEL:REDEFINITION-WITH-DEFUN: redefining LPARALLEL.KERNEL:KERNEL-NAME in DEFUN\n",
      "SB-KERNEL:REDEFINITION-WITH-DEFGENERIC: redefining CL-WAFFE2/VM.GENERIC-TENSOR:CURRENT-BACKEND-STATE in DEFGENERIC\n",
      "SB-KERNEL:REDEFINITION-WITH-DEFGENERIC: redefining CL-WAFFE2/VM.NODES:FORWARD in DEFGENERIC\n",
      "SB-KERNEL:REDEFINITION-WITH-DEFGENERIC: redefining CL-WAFFE2/VM.NODES:BACKWARD in DEFGENERIC\n",
      "SB-KERNEL:REDEFINITION-WITH-DEFUN: redefining CL-WAFFE2/VM.GENERIC-TENSOR:MOVETENSOR-P in DEFUN\n"
     ]
    }
   ],
   "source": [
    "(load \"../../../cl-waffe2.asd\") ;; 相対パスが読み込めない場合適度調節してください\n",
    "\n",
    "(asdf:load-system :cl-waffe2 :silent t)"
   ]
  },
  {
   "cell_type": "markdown",
   "id": "565dc453-ce4e-455b-b252-082026dcfa08",
   "metadata": {},
   "source": [
    "## パッケージ管理\n",
    "\n",
    "まず`section-0-basic`パッケージを定義し、そこでAPIを試すことにしましょう。\n",
    "\n",
    "cl-waffe2は提供する機能ごとにパッケージの名前空間を分離させています。\n",
    "\n",
    "### 中心システム\n",
    "\n",
    "| package | description |\n",
    "| ------- | ----------- |\n",
    "| :cl-waffe2/vm | cl-waffe2が動作する仮想マシンです。cl-waffe2 IRに関するAPIなど |\n",
    "| :cl-waffe2/vm.nodes| AbstractNodeに関する拡張的な機能を提供します。 |\n",
    "| :cl-waffe2/vm.generic-tensor | AbstractTensorに関する拡張的な機能を提供します。 |\n",
    "\n",
    "### API\n",
    "\n",
    "| package | description |\n",
    "| ------- | ----------- |\n",
    "| :cl-waffe2 | ネットワーク定義や設定に関するユーティリティを提供します |\n",
    "| :cl-waffe2/base-impl | !addや!reshapeなど基本的なAPIを提供します |\n",
    "| :cl-waffe2/distributions | randn関数など、テンソルを確率分布から初期化するためのAPIを提供しています |\n",
    "| :cl-waffe2/nn | 回帰モデルやCNN, 誤差関数など基本的なネットワークを提供します |\n",
    "| :cl-waffe2/optimizers | AdamやSGDなど最適化関数の実装を提供します |\n",
    "\n",
    "### バックエンドの一覧\n",
    "\n",
    "| package | description |\n",
    "| ------- | ----------- |\n",
    "| :cl-waffe2/backends.lisp | ANSI Common Lisp上で実装されたバックエンドです。 |\n",
    "| :cl-waffe2/backends.cpu | OpenBLASやSIMD Extensionなど、外部ライブラリの力を借りて高速化するバックエンドです。|\n",
    "| :cl-waffe2/backends.jit.cpu | (試験的) cl-waffe2のコードをCにJITコンパイルすることで動作するバックエンドです。 |\n",
    "| :cl-waffe2/backends.jit.lisp | (廃止予定) cl-waffe2のコードをLispにJITコンパイルすることで動作するバックエンドです。 |"
   ]
  },
  {
   "cell_type": "code",
   "execution_count": 2,
   "id": "8e4ae782-944a-4919-a569-f9e6026907a9",
   "metadata": {},
   "outputs": [
    {
     "data": {
      "text/plain": [
       "#<PACKAGE \"SECTION-0-BASIC\">"
      ]
     },
     "execution_count": 2,
     "metadata": {},
     "output_type": "execute_result"
    },
    {
     "data": {
      "text/plain": [
       "#<PACKAGE \"SECTION-0-BASIC\">"
      ]
     },
     "execution_count": 2,
     "metadata": {},
     "output_type": "execute_result"
    }
   ],
   "source": [
    "(defpackage :section-0-basic\n",
    "    (:use\n",
    "     :cl\n",
    "     :cl-waffe2\n",
    "     :cl-waffe2/base-impl\n",
    "     :cl-waffe2/vm\n",
    "     :cl-waffe2/vm.nodes\n",
    "     :cl-waffe2/vm.generic-tensor\n",
    "     :cl-waffe2/distributions))\n",
    "\n",
    "(in-package :section-0-basic)"
   ]
  },
  {
   "cell_type": "markdown",
   "id": "00cf4798-1a95-466e-aa96-412445918410",
   "metadata": {},
   "source": [
    "## 基本的なデータ型\n",
    "\n",
    "数学では, 一つの数値をスカラー, 一次元の行列をVector, 二次元の行列をMatrixのように表現します。\n",
    "\n",
    "$$ 1 $$\n",
    "\n",
    "$$ (a_1,a_2,\\dots,a_n) $$\n",
    "\n",
    "\\begin{pmatrix}\n",
    "1 & 2 \\\\\n",
    "3 & 4 \\\\\n",
    "\\end{pmatrix}\n",
    "\n",
    "便宜上、cl-waffe2ではこれら全てのデータ型を内包する`AbstractTensor`というデータ型を用いて計算を進めていきます。`:cl-waffe2/vm.generic-tensor`パッケージが提供する[make-tensor](https://hikettei.github.io/cl-waffe2/generic-tensor/#function-make-tensor)関数を用いることで新しいTensorを作成することができます。\n",
    "\n",
    "更に、[:cl-waffe2/distributions](https://hikettei.github.io/cl-waffe2/distributions/)パッケージは確率分布からテンソルをサンプリングする様々な関数を提供しています。"
   ]
  },
  {
   "cell_type": "code",
   "execution_count": 3,
   "id": "68b2182d-6a8d-463b-bb35-c347ec329758",
   "metadata": {},
   "outputs": [
    {
     "data": {
      "text/plain": [
       "{SCALARTENSOR[float]   \n",
       "    1.0\n",
       "  :facet :exist\n",
       "  :requires-grad NIL\n",
       "  :backward NIL}"
      ]
     },
     "execution_count": 3,
     "metadata": {},
     "output_type": "execute_result"
    }
   ],
   "source": [
    "(make-tensor 1)"
   ]
  },
  {
   "cell_type": "code",
   "execution_count": 4,
   "id": "d178f396-4ad7-4acc-a3f6-9e416a4d70de",
   "metadata": {},
   "outputs": [
    {
     "data": {
      "text/plain": [
       "{CPUTENSOR[float] :shape (10 10)  \n",
       "  ((1.0 1.0 1.0 ~ 1.0 1.0 1.0)           \n",
       "   (1.0 1.0 1.0 ~ 1.0 1.0 1.0)   \n",
       "        ...\n",
       "   (1.0 1.0 1.0 ~ 1.0 1.0 1.0)\n",
       "   (1.0 1.0 1.0 ~ 1.0 1.0 1.0))\n",
       "  :facet :exist\n",
       "  :requires-grad NIL\n",
       "  :backward NIL}"
      ]
     },
     "execution_count": 4,
     "metadata": {},
     "output_type": "execute_result"
    }
   ],
   "source": [
    "(make-tensor '(10 10) :initial-element 1.0)"
   ]
  },
  {
   "cell_type": "code",
   "execution_count": 5,
   "id": "04dd430e-d58d-4070-8a86-d7624265ae2b",
   "metadata": {},
   "outputs": [
    {
     "data": {
      "text/plain": [
       "{CPUTENSOR[float] :shape (10 10)  \n",
       "  ((0.1371898    0.98653716   -0.41064423  ~ -2.1985002   0.64959      0.37606597)                    \n",
       "   (-0.990578    1.8650554    1.549668     ~ 2.007281     0.2079959    1.2413626)   \n",
       "                 ...\n",
       "   (-0.14403512  -0.13514197  -0.2724243   ~ 0.59860396   0.87737995   -0.39738473)\n",
       "   (0.3234897    1.256502     -0.66197085  ~ 1.356871     0.502143     0.6284781))\n",
       "  :facet :exist\n",
       "  :requires-grad NIL\n",
       "  :backward NIL}"
      ]
     },
     "execution_count": 5,
     "metadata": {},
     "output_type": "execute_result"
    }
   ],
   "source": [
    "(randn `(10 10)) ;; ガウス分布からサンプリング"
   ]
  },
  {
   "cell_type": "code",
   "execution_count": 6,
   "id": "18f3bf5e-0ff2-452d-bfaf-d5379e5a943c",
   "metadata": {},
   "outputs": [
    {
     "data": {
      "text/plain": [
       "1.0"
      ]
     },
     "execution_count": 6,
     "metadata": {},
     "output_type": "execute_result"
    }
   ],
   "source": [
    ";; Storageにアクセスする\n",
    "(tensor-vec (make-tensor 1))"
   ]
  },
  {
   "cell_type": "code",
   "execution_count": 7,
   "id": "d35d623c-77e6-4026-b0f0-f5e5e846a686",
   "metadata": {},
   "outputs": [
    {
     "data": {
      "text/plain": [
       "{CPUTENSOR[float] :shape (2 2) :named ChainTMP605 \n",
       "  <<Not-Embodied (2 2) Tensor>>\n",
       "  :facet :input\n",
       "  :requires-grad NIL\n",
       "  :backward NIL}"
      ]
     },
     "execution_count": 7,
     "metadata": {},
     "output_type": "execute_result"
    },
    {
     "data": {
      "text/plain": [
       "#(0.0 0.0 0.0 0.0)"
      ]
     },
     "execution_count": 7,
     "metadata": {},
     "output_type": "execute_result"
    }
   ],
   "source": [
    "(make-input `(2 2) nil)\n",
    "(tensor-vec (make-input `(2 2) nil)) ;; tensor-vecを呼び出して初めて割り当てられる"
   ]
  },
  {
   "cell_type": "markdown",
   "id": "e19ac87e-508a-4e67-9ad0-87ddf3ffd855",
   "metadata": {},
   "source": [
    "## AbstractTensor\n",
    "\n",
    "<div align=\"center\">\n",
    "    <img alt=\"Logo\" src=\"../assets/AbstractTensor.png\" width=\"45%\">\n",
    "</div>\n",
    "\n",
    "`storage`に相当するデータ型(例: `fixnum`や`Common Lisp標準配列`など...)を`AbstractTensor`でラップすることで、更に以下の情報を付与することができます。\n",
    "\n",
    "- `:requires-grad` 逆伝播をしたのちに、勾配を求めるかどうか\n",
    "\n",
    "- `:backward` 計算ノードの情報\n",
    "\n",
    "- `:facet` テンソルのメモリ割り当ての状態 `:exist`であれば存在する `:input`であれば未割り当て\n",
    "\n",
    "etc...\n",
    "\n",
    "また、`AbstractTensor`と`storage`のデータ型は`change-facet`関数を用いて強制的に行うことができます。また、[convert-tensor-facet](https://hikettei.github.io/cl-waffe2/utils/#generic-convert-tensor-facet)メソッドを追加することで任意の組み合わせの変換を拡張することが可能です。\n",
    "\n",
    "```lisp\n",
    ";; 使い方\n",
    "(change-facet 対象 :direction 変換先のデータ型)\n",
    "```"
   ]
  },
  {
   "cell_type": "code",
   "execution_count": 8,
   "id": "86329640-1ec3-4dff-a900-3807e8e99567",
   "metadata": {},
   "outputs": [
    {
     "data": {
      "text/plain": [
       "{CPUTENSOR[int32] :shape (3 3)  \n",
       "  ((1 2 3)\n",
       "   (4 5 6)\n",
       "   (7 8 9))\n",
       "  :facet :exist\n",
       "  :requires-grad NIL\n",
       "  :backward NIL}"
      ]
     },
     "execution_count": 8,
     "metadata": {},
     "output_type": "execute_result"
    }
   ],
   "source": [
    "(change-facet #2A((1 2 3)\n",
    "\t\t          (4 5 6)\n",
    "\t\t          (7 8 9))\n",
    "\t       :direction 'AbstractTensor)"
   ]
  },
  {
   "cell_type": "code",
   "execution_count": 9,
   "id": "bd36ed38-1659-4879-a342-09fc92ebf4d1",
   "metadata": {},
   "outputs": [
    {
     "data": {
      "text/plain": [
       "#2A((1.0 1.0 1.0) (1.0 1.0 1.0) (1.0 1.0 1.0))"
      ]
     },
     "execution_count": 9,
     "metadata": {},
     "output_type": "execute_result"
    }
   ],
   "source": [
    "(change-facet (ax+b `(3 3) 0 1) :direction 'array)"
   ]
  },
  {
   "cell_type": "code",
   "execution_count": 10,
   "id": "06279051-adef-44c7-a98a-4c18051b6089",
   "metadata": {},
   "outputs": [
    {
     "data": {
      "text/plain": [
       "{CPUTENSOR[float] :shape (3 3)  \n",
       "  ((0.0 1.0 1.0)\n",
       "   (1.0 0.0 1.0)\n",
       "   (1.0 1.0 0.0))\n",
       "  :facet :exist\n",
       "  :requires-grad NIL\n",
       "  :backward NIL}"
      ]
     },
     "execution_count": 10,
     "metadata": {},
     "output_type": "execute_result"
    }
   ],
   "source": [
    ";; change-facet前後でテンソルのポインタは共有されています\n",
    ";; そのため、AbstractTensorを一旦CL配列にして編集した後、AbstractTensorに戻すといった挙動も可能です。\n",
    ";; with-facetマクロはchange-facet関数を呼び出した後、自動でa*に結果をbindingしてくれます。\n",
    "\n",
    ";; 1で埋め尽くされた3x3行列の対角を0.0で埋める\n",
    "(let ((a (ax+b `(3 3) 0 1)))\n",
    "  (with-facet (a* (a :direction 'array))\n",
    "    (setf (aref a* 0 0) 0.0)\n",
    "    (setf (aref a* 1 1) 0.0)\n",
    "    (setf (aref a* 2 2) 0.0))\n",
    "   a)"
   ]
  },
  {
   "cell_type": "markdown",
   "id": "e40584aa-e457-4642-af02-06e6997250f2",
   "metadata": {},
   "source": [
    "## 演算をする\n",
    "\n",
    "`AbstractTensor`を組み合わせて計算を行いましょう。`!add`関数は与えられた二つのTensorの要素ごとの和を求める関数です。しかし`!add`を呼び出しただけでは何も起こりません。"
   ]
  },
  {
   "cell_type": "code",
   "execution_count": 11,
   "id": "2a8d6cce-b6a0-469e-9a9c-4e2e2253b12c",
   "metadata": {},
   "outputs": [
    {
     "data": {
      "text/plain": [
       "{SCALARTENSOR[int32]  :named ChainTMP693 \n",
       "  :vec-state [maybe-not-computed]\n",
       "  <<Not-Embodied (1) Tensor>>\n",
       "  :facet :input\n",
       "  :requires-grad NIL\n",
       "  :backward <Node: SCALARANDSCALARADD-SCALARTENSOR (A[SCAL] B[SCAL] -> A[SCAL]\n",
       "                                                    WHERE SCAL = 1)>}"
      ]
     },
     "execution_count": 11,
     "metadata": {},
     "output_type": "execute_result"
    }
   ],
   "source": [
    "(!add 1 1)"
   ]
  },
  {
   "cell_type": "markdown",
   "id": "e7db7e56-999e-44d2-ba38-021f8a7b2714",
   "metadata": {},
   "source": [
    "`:backward`には`ScalarAndScalarAdd-ScalarTensor`という計算ノードが記録されています。そして`:facet`は`:input`になっていて、結果を格納する行列の割り当ては行われていません。\n",
    "\n",
    "`cl-waffe2`は演算を呼び出してもその時点では実行されず、ある地点でコンパイルが実行されて初めて演算が呼び出されます。\n",
    "\n",
    "命令をコンパイルするためには二つの関数が用意されています。`proceed`と`build`です。\n",
    "\n",
    "### proceed\n",
    "\n",
    "proceed系統の関数はどれもREPL上で、即実行を目指した実行方式を選択します。具体的には、計算木を木構造のまま処理し実行します（インタプリタ的に）。これによってコンパイル時間によるオーバーヘッドを削減します。\n",
    "\n",
    "他にも:\n",
    "\n",
    "`proceed-backward` 与えれらたテンソルを実行したのち、逆伝播も計算し、パラメーターの勾配を求めます。\n",
    "\n",
    "`proceed-time` インタプリタのまま実行したテンソルの実行時間を二回に分けて計測します。\n",
    "\n",
    "`proceed-bench` 計算ノードをコンパイルした後、ベンチマークを実行します。（インタプリタでは動作しません）"
   ]
  },
  {
   "cell_type": "code",
   "execution_count": 12,
   "id": "7017ae6f-74d2-48c1-9d28-f746e5aa89bb",
   "metadata": {},
   "outputs": [
    {
     "data": {
      "text/plain": [
       "{SCALARTENSOR[int32]  :named ChainTMP712 \n",
       "  :vec-state [computed]\n",
       "    2\n",
       "  :facet :input\n",
       "  :requires-grad NIL\n",
       "  :backward <Node: PROCEEDNODE-T (A[~] -> A[~])>}"
      ]
     },
     "execution_count": 12,
     "metadata": {},
     "output_type": "execute_result"
    }
   ],
   "source": [
    ";; Proceed\n",
    "(proceed (!add 1 1))"
   ]
  },
  {
   "cell_type": "code",
   "execution_count": 13,
   "id": "fe4126c7-b03c-4c74-a23e-ef1bf4b2403f",
   "metadata": {},
   "outputs": [
    {
     "data": {
      "text/plain": [
       "{CPUTENSOR[float] :shape (3 3)  \n",
       "  ((3.0 3.0 3.0)\n",
       "   (3.0 3.0 3.0)\n",
       "   (3.0 3.0 3.0))\n",
       "  :facet :exist\n",
       "  :requires-grad NIL\n",
       "  :backward NIL}"
      ]
     },
     "execution_count": 13,
     "metadata": {},
     "output_type": "execute_result"
    }
   ],
   "source": [
    ";; Proceed-backward\n",
    "(let ((x (parameter (ax+b `(3 3) 0 2))))\n",
    "     (proceed-backward\n",
    "      (!sum\n",
    "       (!mul x 3.0)))\n",
    "     (grad x))"
   ]
  },
  {
   "cell_type": "code",
   "execution_count": 14,
   "id": "484e1060-7d1b-4b5f-8a78-71cc026fd37b",
   "metadata": {},
   "outputs": [
    {
     "data": {
      "text/plain": [
       "{SCALARTENSOR[float]  :named ChainTMP1171 \n",
       "  :vec-state [computed]\n",
       "    4.0\n",
       "  :facet :input\n",
       "  :requires-grad NIL\n",
       "  :backward <Node: PROCEEDNODE-T (A[~] -> A[~])>}"
      ]
     },
     "execution_count": 14,
     "metadata": {},
     "output_type": "execute_result"
    },
    {
     "name": "stdout",
     "output_type": "stream",
     "text": [
      "Proceed-Time: With allocation time:\n",
      "Evaluation took:\n",
      "  0.022 seconds of real time\n",
      "  0.007703 seconds of total run time (0.007543 user, 0.000160 system)\n",
      "  36.36% CPU\n",
      "  27 lambdas converted\n",
      "  51,403,628 processor cycles\n",
      "  3,756,544 bytes consed\n",
      "  \n",
      "Proceed-Time: Without allocation time:\n",
      "Evaluation took:\n",
      "  0.000 seconds of real time\n",
      "  0.000017 seconds of total run time (0.000017 user, 0.000000 system)\n",
      "  100.00% CPU\n",
      "  36,098 processor cycles\n",
      "  0 bytes consed\n",
      "  \n"
     ]
    }
   ],
   "source": [
    ";; Proceed-time\n",
    "(proceed-time (!mul 2.0 2.0))"
   ]
  },
  {
   "cell_type": "code",
   "execution_count": 15,
   "id": "6c42250e-7fc0-43e0-baf2-5a7ed8dad7f5",
   "metadata": {},
   "outputs": [
    {
     "data": {
      "text/plain": [
       "{CPUTENSOR[float] :shape (1 1) -> :view (<(BROADCAST 1)> <(BROADCAST 1)>) -> :visible-shape (1 1) :named ChainTMP1193 \n",
       "  ((100.0))\n",
       "  :facet :input\n",
       "  :requires-grad NIL\n",
       "  :backward NIL}"
      ]
     },
     "execution_count": 15,
     "metadata": {},
     "output_type": "execute_result"
    },
    {
     "name": "stdout",
     "output_type": "stream",
     "text": [
      "[Sorted by Instructions]\n",
      " Time(s)   |   Instruction ( * - Beyonds the average execution time)\n",
      "0.010573   | <WfInst[Compiled: SCALARMUL-CPUTENSOR] : TID1194 <= op(TID1194(1 1) <Input>TID1196(1))>\n",
      "0.005035   | <WfInst[Compiled: VIEWTENSORNODE-T]    : TID1205 <= op(TID1205(10 10) TID1194(1 1))>\n",
      "0.057372*  | <WfInst[Compiled: ADDNODE-CPUTENSOR]   : TID1205 <= op(TID1205(10 10) <Input>TID1191(10 10))>\n",
      "0.005339   | <WfInst[Compiled: VIEWTENSORNODE-T]    : TID1227 <= op(TID1227(1 1) TID1205(10 10))>\n",
      "\n",
      "4 Instructions | 5 Tensors\n",
      "\n",
      " Total Time: 0.078319 sec\n",
      "\n",
      "[Sorted by topK]\n",
      " Instruction                           | Total time (s) | Time/Total (n-sample=10000)\n",
      "<WfInst[Compiled: ADDNODE-CPUTENSOR]   | 0.057372       | 73.25426%\n",
      "<WfInst[Compiled: SCALARMUL-CPUTENSOR] | 0.010573       | 13.499917%\n",
      "<WfInst[Compiled: VIEWTENSORNODE-T]    | 0.010374       | 13.245829%\n"
     ]
    }
   ],
   "source": [
    ";; proceed-bench\n",
    ";; *が付いている命令 -> 実行時間が平均以上\n",
    ";; 実行時間が大きいノードtopKをソートして表示する\n",
    "\n",
    "(proceed-bench (!sum (ax+b `(10 10) 0 1)) :n-sample 10000)"
   ]
  },
  {
   "cell_type": "markdown",
   "id": "7280434f-231c-4052-8adb-b0e27855fe83",
   "metadata": {},
   "source": [
    "`proceed`系統の関数を用いてREPL上などでデバッグしながらボトルネックを探しつつ、計算ノードを組み立てることが可能です。\n",
    "\n",
    "ある程度ネットワークが出来上がってきて、学習や推論のフェーズに移行するときは`build`関数を用います。これは、`proceed-bench`が表示したものと同じ形式の命令列に計算ノードをコンパイルして実行するモードです。多少のコンパイル時間と引き換えに最も高速に動作します。"
   ]
  },
  {
   "cell_type": "code",
   "execution_count": 16,
   "id": "427e0cd7-c42f-4ec2-aae1-d7aaeeec56dc",
   "metadata": {},
   "outputs": [
    {
     "data": {
      "text/plain": [
       "NIL"
      ]
     },
     "execution_count": 16,
     "metadata": {},
     "output_type": "execute_result"
    },
    {
     "name": "stdout",
     "output_type": "stream",
     "text": [
      "[Forward]: \n",
      "{CPUTENSOR[float] :shape (1 1) -> :view (<(BROADCAST 1)> <(BROADCAST 1)>) -> :visible-shape (1 1) :named ChainTMP1310 \n",
      "  ((300.0))\n",
      "  :facet :input\n",
      "  :requires-grad NIL\n",
      "  :backward NIL}\n",
      "\n",
      "[X.grad]:\n",
      "{CPUTENSOR[float] :shape (10 10)  \n",
      "  ((3.0 3.0 3.0 ~ 3.0 3.0 3.0)           \n",
      "   (3.0 3.0 3.0 ~ 3.0 3.0 3.0)   \n",
      "        ...\n",
      "   (3.0 3.0 3.0 ~ 3.0 3.0 3.0)\n",
      "   (3.0 3.0 3.0 ~ 3.0 3.0 3.0))\n",
      "  :facet :exist\n",
      "  :requires-grad NIL\n",
      "  :backward NIL}\n",
      "[Y.grad]:\n",
      "{CPUTENSOR[float] :shape (10 10)  \n",
      "  ((1.0 1.0 1.0 ~ 1.0 1.0 1.0)           \n",
      "   (1.0 1.0 1.0 ~ 1.0 1.0 1.0)   \n",
      "        ...\n",
      "   (1.0 1.0 1.0 ~ 1.0 1.0 1.0)\n",
      "   (1.0 1.0 1.0 ~ 1.0 1.0 1.0))\n",
      "  :facet :exist\n",
      "  :requires-grad NIL\n",
      "  :backward NIL}\n"
     ]
    }
   ],
   "source": [
    "(let ((x (parameter (ax+b `(10 10) 0 1)))\n",
    "      (y (parameter (ax+b `(10 10) 0 3))))\n",
    "     (let ((compiled-model (build (!sum (!mul x y)))))\n",
    "          (format t \"[Forward]: ~%~a~%\" (forward compiled-model))\n",
    "          (backward compiled-model)\n",
    "          (format t \"~%[X.grad]:~%~a~%[Y.grad]:~%~a~%\" (grad x) (grad y))\n",
    "          nil))"
   ]
  },
  {
   "cell_type": "markdown",
   "id": "b079448c-8267-4529-85c4-3157e327921f",
   "metadata": {},
   "source": [
    "## デバイスを切り替える\n",
    "\n",
    "```lisp\n",
    "(with-devices (&rest devices)\n",
    "    body)\n",
    "```\n",
    "\n",
    "cl-waffe2の演算(AbstractNode)を実行するデバイスなどは、ユーザーによって拡張したり変更することが簡単になるように設計されています。\n",
    "\n",
    "利用可能なバックエンド一覧やその状態などは`(show-backends)`を用いて確認することができます。"
   ]
  },
  {
   "cell_type": "code",
   "execution_count": 17,
   "id": "d1c7e1ce-be9f-483c-bf1d-5e9ae1eb9ff3",
   "metadata": {},
   "outputs": [
    {
     "data": {
      "text/plain": [
       "NIL"
      ]
     },
     "execution_count": 17,
     "metadata": {},
     "output_type": "execute_result"
    },
    {
     "name": "stdout",
     "output_type": "stream",
     "text": [
      "\n",
      "─────[All Backends Tree]──────────────────────────────────────────────────\n",
      "\n",
      "[*]CPUTENSOR: OpenBLAS=available *simd-extension-p*=available\n",
      "    └[-]JITCPUTENSOR: compiler=gcc flags=(-fPIC -O3 -march=native) viz=NIL\n",
      "\n",
      "[*]LISPTENSOR: Common Lisp implementation on matrix operations\n",
      "    └[-]JITLISPTENSOR: To be deleted in the future release. do not use this.\n",
      "\n",
      "[-]SCALARTENSOR: is a special tensor for representing scalar values.\n",
      "    └[-]JITCPUSCALARTENSOR: Use with JITCPUTensor\n",
      "\n",
      "([*] : in use, [-] : not in use.)\n",
      "Add a current-backend-state method to display the status.\n",
      "─────[*using-backend*]───────────────────────────────────────────────────\n",
      "\n",
      "Priority: Higher <───────────────────>Lower\n",
      "                  CPUTENSOR LISPTENSOR \n",
      "\n",
      "(use with-devices macro or set-devices-toplevel function to change this parameter.)\n"
     ]
    }
   ],
   "source": [
    "(show-backends)"
   ]
  },
  {
   "cell_type": "markdown",
   "id": "2fe79a16-28c7-4c6d-ad21-9bb8048eb811",
   "metadata": {},
   "source": [
    "上のグラフが木構造になっているのは継承関係を表しているからです。\n",
    "\n",
    "例えば`CPUTensor`を継承してある演算の最適化に特化した`MyTensor`を定義することができます。ここで、`MyTensor`と`CPUTensor`は継承関係にあるので、`MyTensor`に定義されていない演算は`CPUTensor`のものを代わりに用いることが可能です。ですから下のコードは動作します。\n",
    "\n",
    "ここで`MyTensor`に演算を追加したり再定義させることも可能ですが、別のセクションで触れます。"
   ]
  },
  {
   "cell_type": "code",
   "execution_count": 18,
   "id": "ac489bdd-38dd-4093-a878-facc0d65df1b",
   "metadata": {},
   "outputs": [
    {
     "data": {
      "text/plain": [
       "#<STANDARD-CLASS SECTION-0-BASIC::MYTENSOR>"
      ]
     },
     "execution_count": 18,
     "metadata": {},
     "output_type": "execute_result"
    },
    {
     "data": {
      "text/plain": [
       "{MYTENSOR[float] :shape (3 3) :named ChainTMP2203 \n",
       "  :vec-state [computed]\n",
       "  ((0.0  2.0  4.0)\n",
       "   (6.0  8.0  10.0)\n",
       "   (12.0 14.0 16.0))\n",
       "  :facet :input\n",
       "  :requires-grad NIL\n",
       "  :backward <Node: PROCEEDNODE-T (A[~] -> A[~])>}"
      ]
     },
     "execution_count": 18,
     "metadata": {},
     "output_type": "execute_result"
    }
   ],
   "source": [
    "(defclass MyTensor (cl-waffe2/backends.cpu:CPUTensor) nil)\n",
    "\n",
    "(with-devices (MyTensor cl-waffe2/backends.cpu:CPUTensor)\n",
    "    (proceed\n",
    "     (!add (ax+b `(3 3) 1 0) (ax+b `(3 3) 1 0))))"
   ]
  },
  {
   "cell_type": "markdown",
   "id": "962a3fff-ab9e-41e5-94a3-d0fddf0b360a",
   "metadata": {},
   "source": [
    "## 高次への拡張\n",
    "\n",
    "Theanoなどのフレームワークと同様に、かつNumpyなどのライブラリとは対称的に、Broadcastingは宣言された軸でないと自動で適用されません。\n",
    "\n",
    "### Rank Upのルール\n",
    "\n",
    "NumpyのBroadcastingのルールの一つ目は\n",
    "\n",
    "  - 演算されるテンソル同士のランクが異なる場合、小さい方は大きい方に合わせて先頭に1を足す\n",
    "\n",
    "というものです。これに対応する演算が`!flexible`という関数になります。これは`<1 x N>`という軸を`:at`で指定された位置に追加します。"
   ]
  },
  {
   "cell_type": "code",
   "execution_count": 19,
   "id": "8c5f90ed-e42a-45a8-9f1b-67817708f23a",
   "metadata": {},
   "outputs": [
    {
     "data": {
      "text/plain": [
       "{CPUTENSOR[float] :shape (<1 x N> 3 3) :named TENSOR \n",
       "  :vec-state [maybe-not-computed]\n",
       "  ((1.0 1.0 1.0)\n",
       "   (1.0 1.0 1.0)\n",
       "   (1.0 1.0 1.0))\n",
       "  :facet :input\n",
       "  :requires-grad NIL\n",
       "  :backward <Node: FLEXIBLE-RANK-NODE-T (A[~] -> A[~])>}"
      ]
     },
     "execution_count": 19,
     "metadata": {},
     "output_type": "execute_result"
    },
    {
     "data": {
      "text/plain": [
       "{CPUTENSOR[float] :shape (3 <1 x N> 3) :named TENSOR \n",
       "  :vec-state [maybe-not-computed]\n",
       "  ((1.0 1.0 1.0)\n",
       "   (1.0 1.0 1.0)\n",
       "   (1.0 1.0 1.0))\n",
       "  :facet :input\n",
       "  :requires-grad NIL\n",
       "  :backward <Node: FLEXIBLE-RANK-NODE-T (A[~] -> A[~])>}"
      ]
     },
     "execution_count": 19,
     "metadata": {},
     "output_type": "execute_result"
    },
    {
     "data": {
      "text/plain": [
       "{CPUTENSOR[float] :shape (3 3 <1 x N>) :named TENSOR \n",
       "  :vec-state [maybe-not-computed]\n",
       "  ((1.0 1.0 1.0)\n",
       "   (1.0 1.0 1.0)\n",
       "   (1.0 1.0 1.0))\n",
       "  :facet :input\n",
       "  :requires-grad NIL\n",
       "  :backward <Node: FLEXIBLE-RANK-NODE-T (A[~] -> A[~])>}"
      ]
     },
     "execution_count": 19,
     "metadata": {},
     "output_type": "execute_result"
    },
    {
     "data": {
      "text/plain": [
       "{CPUTENSOR[float] :shape (3 <1 x N> 3) :named TENSOR \n",
       "  :vec-state [maybe-not-computed]\n",
       "  ((1.0 1.0 1.0)\n",
       "   (1.0 1.0 1.0)\n",
       "   (1.0 1.0 1.0))\n",
       "  :facet :input\n",
       "  :requires-grad NIL\n",
       "  :backward <Node: FLEXIBLE-RANK-NODE-T (A[~] -> A[~])>}"
      ]
     },
     "execution_count": 19,
     "metadata": {},
     "output_type": "execute_result"
    }
   ],
   "source": [
    "(!flexible (ax+b `(3 3) 0 1) :at 0)\n",
    "(!flexible (ax+b `(3 3) 0 1) :at 1)\n",
    "(!flexible (ax+b `(3 3) 0 1) :at 2)\n",
    "\n",
    ";; or\n",
    "\n",
    "(%transform (ax+b `(3 3) 0 1)[i j] -> [i ~ j])"
   ]
  },
  {
   "cell_type": "code",
   "execution_count": 22,
   "id": "4a6f3628-ebfe-4ba8-8090-ad576517681a",
   "metadata": {},
   "outputs": [
    {
     "data": {
      "text/plain": [
       "{CPUTENSOR[float] :shape (3 3) :named ChainTMP2550 \n",
       "  :vec-state [computed]\n",
       "  ((0.0 0.0 0.0)\n",
       "   (1.0 1.0 1.0)\n",
       "   (2.0 2.0 2.0))\n",
       "  :facet :input\n",
       "  :requires-grad NIL\n",
       "  :backward <Node: PROCEEDNODE-T (A[~] -> A[~])>}"
      ]
     },
     "execution_count": 22,
     "metadata": {},
     "output_type": "execute_result"
    }
   ],
   "source": [
    "(let ((a (ax+b `(3 1) 1 0))\n",
    "      (b (ax+b `(3 3) 0 0)))\n",
    "     (proceed (!add b (!view a (broadcast-to b)))))"
   ]
  },
  {
   "cell_type": "markdown",
   "id": "f4a01de8-593a-47ff-b7a5-8f6c0b6aec4b",
   "metadata": {},
   "source": [
    "## defmodel\n",
    "\n",
    "`defmodel`というマクロは、複数の`AbstractNode`を束ねた`Composite`(他のライブラリではModuleやModelに相当)というCLOSクラスを定義します。加えて`Composite`はその他に、静的に動作する関数を定義するなどにも応用が可能です。"
   ]
  },
  {
   "cell_type": "code",
   "execution_count": null,
   "id": "5d54d3ab-3d6d-4096-8855-5dbfc2fcc6d6",
   "metadata": {},
   "outputs": [],
   "source": [
    "                        "
   ]
  },
  {
   "cell_type": "markdown",
   "id": "6c178885-3e9c-413b-bd5e-670eb1bf8bd5",
   "metadata": {},
   "source": [
    "## defsequence\n",
    "\n",
    "```lisp\n",
    "(call (XXX)\n",
    "      (call (YYY)\n",
    "            (call (ZZZ) X)))\n",
    "```\n",
    "\n",
    "Instead,\n",
    "\n",
    "```lisp\n",
    "(call-> X\n",
    "        (XXX)\n",
    "        (YYY)\n",
    "        (ZZZ))\n",
    "```\n",
    "\n",
    "`call->` ... 複数の計算ノードを合成する"
   ]
  },
  {
   "cell_type": "code",
   "execution_count": null,
   "id": "7718a13c-a79b-4a4b-8232-1babfce7334c",
   "metadata": {},
   "outputs": [],
   "source": []
  },
  {
   "cell_type": "markdown",
   "id": "b310545e-8e42-4344-915f-0dc96c705a8e",
   "metadata": {},
   "source": [
    "## deftrainer + MLP学習 + 最適化"
   ]
  },
  {
   "cell_type": "markdown",
   "id": "78bd5ff9-7423-44b0-8f56-deecaf49f509",
   "metadata": {},
   "source": [
    "=> `1device-extension.ipynb`へ続く・・・"
   ]
  },
  {
   "cell_type": "code",
   "execution_count": null,
   "id": "d4661181-8491-4bc6-9e39-b2d907c4a6da",
   "metadata": {},
   "outputs": [],
   "source": []
  }
 ],
 "metadata": {
  "kernelspec": {
   "display_name": "Common Lisp",
   "language": "common-lisp",
   "name": "common-lisp"
  },
  "language_info": {
   "codemirror_mode": "text/x-common-lisp",
   "file_extension": ".lisp",
   "mimetype": "text/x-common-lisp",
   "name": "common-lisp",
   "pygments_lexer": "common-lisp",
   "version": "2.3.3"
  }
 },
 "nbformat": 4,
 "nbformat_minor": 5
}
