{
 "cells": [
  {
   "cell_type": "markdown",
   "id": "d1b31c83-3c5b-4c63-88de-9edacb25f61c",
   "metadata": {},
   "source": [
    "### はじめに\n",
    "\n",
    "<div align=\"center\">\n",
    "    <img alt=\"Logo\" src=\"https://hikettei.github.io/cl-waffe-docs/cl-waffe.png\" width=\"45%\">\n",
    "</div>\n",
    "\n",
    "cl-waffe2はANSI Common Lisp上に、深層学習モデルの設計や学習に特化した行列演算ライブラリとそれに関連するパッケージを提供するフレームワークです。このNotebookでは複数回に分けてcl-waffe2の基本的な使い方をサンプルコードと共に提供します。\n",
    "\n",
    "cl-waffe2のインストール方法やドキュメントについては、[公式ドキュメント](https://hikettei.github.io/cl-waffe2/)をご活用ください。\n",
    "\n",
    "\n",
    "### common-lisp-jupyter\n",
    "\n",
    "Jupyter Notebook及びJupyter Labでこのファイルをご覧になっている場合、付属しているセルを実行するためには、[common-lisp-jupyter](https://github.com/yitzchak/common-lisp-jupyter)という拡張ライブラリを予め導入していただく必要があります。（ライブラリのReadme.mdファイル及び公式ドキュメントをご覧ください）"
   ]
  },
  {
   "cell_type": "markdown",
   "id": "9725039f-ffb1-48a9-a630-89ea0b23f450",
   "metadata": {},
   "source": [
    "### cl-waffe2を読み込む\n",
    "\n",
    "cl-waffe2は執筆時点(2023/08/27)では開発途中で、まだQuicklispに登録がされていません。そのため動作するには[オリジナルのGithubリポジトリ](https://github.com/hikettei/cl-waffe2.git)からリポジトリをクローンしていただいたのち、`cl-waffe2.asd`ファイルを読み込んでいただく必要があります。"
   ]
  },
  {
   "cell_type": "code",
   "execution_count": 1,
   "id": "715ed4c2-b65d-4a50-be47-3cb3f8d7ee0b",
   "metadata": {},
   "outputs": [
    {
     "data": {
      "text/plain": [
       "T"
      ]
     },
     "execution_count": 1,
     "metadata": {},
     "output_type": "execute_result"
    },
    {
     "data": {
      "text/plain": [
       "T"
      ]
     },
     "execution_count": 1,
     "metadata": {},
     "output_type": "execute_result"
    },
    {
     "name": "stdout",
     "output_type": "stream",
     "text": [
      "SB-KERNEL:REDEFINITION-WITH-DEFMETHOD: redefining PERFORM (#<STANDARD-CLASS ASDF/LISP-ACTION:TEST-OP> #<SB-MOP:EQL-SPECIALIZER #<SYSTEM \"cl-waffe2/test\">>) in DEFMETHOD\n",
      "SB-KERNEL:REDEFINITION-WITH-DEFUN: redefining LPARALLEL.KERNEL:KERNEL-NAME in DEFUN\n",
      "SB-KERNEL:REDEFINITION-WITH-DEFGENERIC: redefining CL-WAFFE2/VM.GENERIC-TENSOR:CURRENT-BACKEND-STATE in DEFGENERIC\n",
      "SB-KERNEL:REDEFINITION-WITH-DEFGENERIC: redefining CL-WAFFE2/VM.NODES:FORWARD in DEFGENERIC\n",
      "SB-KERNEL:REDEFINITION-WITH-DEFGENERIC: redefining CL-WAFFE2/VM.NODES:BACKWARD in DEFGENERIC\n",
      "SB-KERNEL:REDEFINITION-WITH-DEFUN: redefining CL-WAFFE2/VM.GENERIC-TENSOR:MOVETENSOR-P in DEFUN\n"
     ]
    }
   ],
   "source": [
    "(load \"../../../cl-waffe2.asd\") ;; 相対パスが読み込めない場合適度調節してください\n",
    "\n",
    "(asdf:load-system :cl-waffe2 :silent t)"
   ]
  },
  {
   "cell_type": "markdown",
   "id": "565dc453-ce4e-455b-b252-082026dcfa08",
   "metadata": {},
   "source": [
    "## パッケージ管理\n",
    "\n",
    "まず`section-0-basic`パッケージを定義し、そこでAPIを試すことにしましょう。\n",
    "\n",
    "cl-waffe2は提供する機能ごとにパッケージの名前空間を分離させています。一部ですが：\n",
    "\n",
    "### 中心システム\n",
    "\n",
    "| package | description |\n",
    "| ------- | ----------- |\n",
    "| :cl-waffe2/vm | cl-waffe2が動作する仮想マシンです。cl-waffe2 IRに関するAPIなど |\n",
    "| :cl-waffe2/vm.nodes| AbstractNodeに関する拡張的な機能を提供します。 |\n",
    "| :cl-waffe2/vm.generic-tensor | AbstractTensorに関する拡張的な機能を提供します。 |\n",
    "\n",
    "### API\n",
    "\n",
    "| package | description |\n",
    "| ------- | ----------- |\n",
    "| :cl-waffe2 | ネットワーク定義や設定に関するユーティリティを提供します |\n",
    "| :cl-waffe2/base-impl | !addや!reshapeなど基本的なAPIを提供します |\n",
    "| :cl-waffe2/distributions | randn関数など、テンソルを確率分布から初期化するためのAPIを提供しています |\n",
    "| :cl-waffe2/nn | 回帰モデルやCNN, 誤差関数など基本的なネットワークを提供します |\n",
    "| :cl-waffe2/optimizers | AdamやSGDなど最適化関数の実装を提供します |\n",
    "\n",
    "### バックエンドの一覧\n",
    "\n",
    "| package | description |\n",
    "| ------- | ----------- |\n",
    "| :cl-waffe2/backends.lisp | ANSI Common Lisp上で実装されたバックエンドです。 |\n",
    "| :cl-waffe2/backends.cpu | OpenBLASやSIMD Extensionなど、外部ライブラリの力を借りて高速化するバックエンドです。|\n",
    "| :cl-waffe2/backends.jit.cpu | (試験的) cl-waffe2のコードをCにJITコンパイルすることで動作するバックエンドです。 |\n",
    "| :cl-waffe2/backends.jit.lisp | (廃止予定) cl-waffe2のコードをLispにJITコンパイルすることで動作するバックエンドです。 |"
   ]
  },
  {
   "cell_type": "code",
   "execution_count": 3,
   "id": "8e4ae782-944a-4919-a569-f9e6026907a9",
   "metadata": {},
   "outputs": [
    {
     "data": {
      "text/plain": [
       "#<PACKAGE \"SECTION-0-BASIC\">"
      ]
     },
     "execution_count": 3,
     "metadata": {},
     "output_type": "execute_result"
    },
    {
     "data": {
      "text/plain": [
       "#<PACKAGE \"SECTION-0-BASIC\">"
      ]
     },
     "execution_count": 3,
     "metadata": {},
     "output_type": "execute_result"
    }
   ],
   "source": [
    "(defpackage :section-0-basic\n",
    "    (:use\n",
    "     :cl\n",
    "     :cl-waffe2\n",
    "     :cl-waffe2/base-impl\n",
    "     :cl-waffe2/vm\n",
    "     :cl-waffe2/vm.nodes\n",
    "     :cl-waffe2/vm.generic-tensor\n",
    "     :cl-waffe2/distributions))\n",
    "\n",
    "(in-package :section-0-basic)"
   ]
  },
  {
   "cell_type": "markdown",
   "id": "00cf4798-1a95-466e-aa96-412445918410",
   "metadata": {},
   "source": [
    "## 基本的なデータ型\n",
    "\n",
    "数学では, 一つの数値をスカラー, 一次元の行列をVector, 二次元の行列をMatrixのように表現します。\n",
    "\n",
    "$$ 1 $$\n",
    "\n",
    "$$ (a_1,a_2,\\dots,a_n) $$\n",
    "\n",
    "\\begin{pmatrix}\n",
    "1 & 2 \\\\\n",
    "3 & 4 \\\\\n",
    "\\end{pmatrix}\n",
    "\n",
    "便宜上、cl-waffe2ではこれら全てのデータ型を内包する`AbstractTensor`というデータ型を用いて計算を進めていきます。`:cl-waffe2/vm.generic-tensor`パッケージが提供する[make-tensor](https://hikettei.github.io/cl-waffe2/generic-tensor/#function-make-tensor)関数を用いることで新しいTensorを作成することができます。\n",
    "\n",
    "更に、[:cl-waffe2/distributions](https://hikettei.github.io/cl-waffe2/distributions/)パッケージは確率分布からテンソルをサンプリングする様々な関数を提供しています。"
   ]
  },
  {
   "cell_type": "code",
   "execution_count": 5,
   "id": "68b2182d-6a8d-463b-bb35-c347ec329758",
   "metadata": {},
   "outputs": [
    {
     "data": {
      "text/plain": [
       "{SCALARTENSOR[float]   \n",
       "    1.0\n",
       "  :facet :exist\n",
       "  :requires-grad NIL\n",
       "  :backward NIL}"
      ]
     },
     "execution_count": 5,
     "metadata": {},
     "output_type": "execute_result"
    }
   ],
   "source": [
    "(make-tensor 1)"
   ]
  },
  {
   "cell_type": "code",
   "execution_count": 7,
   "id": "d178f396-4ad7-4acc-a3f6-9e416a4d70de",
   "metadata": {},
   "outputs": [
    {
     "data": {
      "text/plain": [
       "{CPUTENSOR[float] :shape (10 10)  \n",
       "  ((1.0 1.0 1.0 ~ 1.0 1.0 1.0)           \n",
       "   (1.0 1.0 1.0 ~ 1.0 1.0 1.0)   \n",
       "        ...\n",
       "   (1.0 1.0 1.0 ~ 1.0 1.0 1.0)\n",
       "   (1.0 1.0 1.0 ~ 1.0 1.0 1.0))\n",
       "  :facet :exist\n",
       "  :requires-grad NIL\n",
       "  :backward NIL}"
      ]
     },
     "execution_count": 7,
     "metadata": {},
     "output_type": "execute_result"
    }
   ],
   "source": [
    "(make-tensor '(10 10) :initial-element 1.0)"
   ]
  },
  {
   "cell_type": "code",
   "execution_count": 8,
   "id": "04dd430e-d58d-4070-8a86-d7624265ae2b",
   "metadata": {},
   "outputs": [
    {
     "data": {
      "text/plain": [
       "{CPUTENSOR[float] :shape (10 10)  \n",
       "  ((0.1371898    0.98653716   -0.41064423  ~ -2.1985002   0.64959      0.37606597)                    \n",
       "   (-0.990578    1.8650554    1.549668     ~ 2.007281     0.2079959    1.2413626)   \n",
       "                 ...\n",
       "   (-0.14403512  -0.13514197  -0.2724243   ~ 0.59860396   0.87737995   -0.39738473)\n",
       "   (0.3234897    1.256502     -0.66197085  ~ 1.356871     0.502143     0.6284781))\n",
       "  :facet :exist\n",
       "  :requires-grad NIL\n",
       "  :backward NIL}"
      ]
     },
     "execution_count": 8,
     "metadata": {},
     "output_type": "execute_result"
    }
   ],
   "source": [
    "(randn `(10 10)) ;; ガウス分布からサンプリング"
   ]
  },
  {
   "cell_type": "markdown",
   "id": "e19ac87e-508a-4e67-9ad0-87ddf3ffd855",
   "metadata": {},
   "source": [
    "## AbstractTensor\n",
    "\n",
    "<div align=\"center\">\n",
    "    <img alt=\"Logo\" src=\"../assets/AbstractTensor.png\" width=\"45%\">\n",
    "</div>\n",
    "\n",
    "`storage`に相当するデータ型(例: `fixnum`や`Common Lisp標準配列`など...)を`AbstractTensor`でラップすることで、更に以下の情報を付与することができます。\n",
    "\n",
    "- `:requires-grad` 逆伝播をしたのちに、勾配を求めるかどうか\n",
    "\n",
    "- `:backward` 計算ノードの情報\n",
    "\n",
    "- `:facet` テンソルのメモリ割り当ての状態 `:exist`であれば存在する `:input`であれば未割り当て\n",
    "\n",
    "etc...\n",
    "\n",
    "また、`AbstractTensor`と`storage`のデータ型は`change-facet`関数を用いて強制的に行うことができます。また、[convert-tensor-facet](https://hikettei.github.io/cl-waffe2/utils/#generic-convert-tensor-facet)メソッドを追加することで任意の組み合わせの変換を拡張することが可能です。\n",
    "\n",
    "```lisp\n",
    ";; 使い方\n",
    "(change-facet 対象 :direction 変換先のデータ型)\n",
    "```"
   ]
  },
  {
   "cell_type": "code",
   "execution_count": 15,
   "id": "86329640-1ec3-4dff-a900-3807e8e99567",
   "metadata": {},
   "outputs": [
    {
     "data": {
      "text/plain": [
       "{CPUTENSOR[int32] :shape (3 3)  \n",
       "  ((1 2 3)\n",
       "   (4 5 6)\n",
       "   (7 8 9))\n",
       "  :facet :exist\n",
       "  :requires-grad NIL\n",
       "  :backward NIL}"
      ]
     },
     "execution_count": 15,
     "metadata": {},
     "output_type": "execute_result"
    }
   ],
   "source": [
    "(change-facet #2A((1 2 3)\n",
    "\t\t          (4 5 6)\n",
    "\t\t          (7 8 9))\n",
    "\t       :direction 'AbstractTensor)"
   ]
  },
  {
   "cell_type": "code",
   "execution_count": 10,
   "id": "bd36ed38-1659-4879-a342-09fc92ebf4d1",
   "metadata": {},
   "outputs": [
    {
     "data": {
      "text/plain": [
       "#2A((1.0 1.0 1.0) (1.0 1.0 1.0) (1.0 1.0 1.0))"
      ]
     },
     "execution_count": 10,
     "metadata": {},
     "output_type": "execute_result"
    }
   ],
   "source": [
    "(change-facet (ax+b `(3 3) 0 1) :direction 'array)"
   ]
  },
  {
   "cell_type": "code",
   "execution_count": 14,
   "id": "06279051-adef-44c7-a98a-4c18051b6089",
   "metadata": {},
   "outputs": [
    {
     "data": {
      "text/plain": [
       "{CPUTENSOR[float] :shape (3 3)  \n",
       "  ((0.0 1.0 1.0)\n",
       "   (1.0 0.0 1.0)\n",
       "   (1.0 1.0 0.0))\n",
       "  :facet :exist\n",
       "  :requires-grad NIL\n",
       "  :backward NIL}"
      ]
     },
     "execution_count": 14,
     "metadata": {},
     "output_type": "execute_result"
    }
   ],
   "source": [
    ";; change-facet前後でテンソルのポインタは共有されています\n",
    ";; そのため、AbstractTensorを一旦CL配列にして編集した後、AbstractTensorに戻すといった挙動も可能です。\n",
    ";; with-facetマクロはchange-facet関数を呼び出した後、自動でa*に結果をbindingしてくれます。\n",
    "\n",
    ";; 1で埋め尽くされた3x3行列の対角を0.0で埋める\n",
    "(let ((a (ax+b `(3 3) 0 1)))\n",
    "  (with-facet (a* (a :direction 'array))\n",
    "    (setf (aref a* 0 0) 0.0)\n",
    "    (setf (aref a* 1 1) 0.0)\n",
    "    (setf (aref a* 2 2) 0.0))\n",
    "   a)"
   ]
  },
  {
   "cell_type": "markdown",
   "id": "e40584aa-e457-4642-af02-06e6997250f2",
   "metadata": {},
   "source": [
    "## 演算をする\n",
    "\n",
    ";; [TODO] 書くこと: 遅延評価 逆伝播 with-devices disassemble-waffe2-ir change-facet"
   ]
  }
 ],
 "metadata": {
  "kernelspec": {
   "display_name": "Common Lisp",
   "language": "common-lisp",
   "name": "common-lisp"
  },
  "language_info": {
   "codemirror_mode": "text/x-common-lisp",
   "file_extension": ".lisp",
   "mimetype": "text/x-common-lisp",
   "name": "common-lisp",
   "pygments_lexer": "common-lisp",
   "version": "2.3.3"
  }
 },
 "nbformat": 4,
 "nbformat_minor": 5
}
